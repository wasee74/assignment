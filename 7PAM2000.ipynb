{
  "nbformat": 4,
  "nbformat_minor": 0,
  "metadata": {
    "colab": {
      "name": "7PAM2000.ipynb",
      "provenance": [],
      "collapsed_sections": [],
      "include_colab_link": true
    },
    "kernelspec": {
      "name": "python3",
      "display_name": "Python 3"
    },
    "language_info": {
      "name": "python"
    }
  },
  "cells": [
    {
      "cell_type": "markdown",
      "metadata": {
        "id": "view-in-github",
        "colab_type": "text"
      },
      "source": [
        "<a href=\"https://colab.research.google.com/github/wu21aad/assignment/blob/main/7PAM2000.ipynb\" target=\"_parent\"><img src=\"https://colab.research.google.com/assets/colab-badge.svg\" alt=\"Open In Colab\"/></a>"
      ]
    },
    {
      "cell_type": "markdown",
      "source": [
        "IMPORTING USEFUL LIBRARIES"
      ],
      "metadata": {
        "id": "3HvQHj7HzmIp"
      }
    },
    {
      "cell_type": "code",
      "source": [
        "import os \n",
        "import zipfile\n",
        "import pandas as pd\n",
        "import numpy as np\n",
        "from tensorflow import keras # for downloading the data"
      ],
      "metadata": {
        "id": "GnTwhYEH3Iwu"
      },
      "execution_count": null,
      "outputs": []
    },
    {
      "cell_type": "markdown",
      "source": [
        "DATA FETCHING\n",
        "\n",
        "Fetch the data from the world bank archive on cllimate change. kera's function called utils is used to fetch the data, zipfile's function called ZipFile is used to extract the world bank data."
      ],
      "metadata": {
        "id": "xRUcGMtq6lAD"
      }
    },
    {
      "cell_type": "code",
      "execution_count": null,
      "metadata": {
        "id": "zdEXtuaXY4pc"
      },
      "outputs": [],
      "source": [
        "url = \"https://api.worldbank.org/v2/en/topic/19?downloadformat=csv\" # data repository\n",
        "\n",
        "# a function for downloading and etxracting data\n",
        "def download_extract_data():\n",
        "  download_path = os.path.join(os.getcwd(),\"data/data.tar.gz\") # path for storing the data's zip file\n",
        "  # fetching the data\n",
        "  if not os.path.exists(\"data\"):\n",
        "    os.makedirs(\"data\")\n",
        "    keras.utils.get_file(download_path,url)\n",
        "  # Extracting the data\n",
        "  if not os.path.exists(\"data/data.csv\"):\n",
        "    basepath = os.path.join(os.getcwd(),\"data\")\n",
        "    with zipfile.ZipFile(download_path, \"r\") as zp:\n",
        "      zp.extractall(basepath)\n",
        "\n",
        "\n",
        "download_extract_data()\n",
        "    "
      ]
    },
    {
      "cell_type": "markdown",
      "source": [
        "CATEGORIZING THE DATASET\n",
        "\n",
        "The already extracted csv file is preprocessed for easier manipulation. Pandas, a library for manipulating structured data such as csv and excel files is used to clean the data. The first four rows are skipped because they contain no structured data and can therefore create compile-time error. We define a function to return two dataframes, one with years as columns and the other with countries as columns"
      ],
      "metadata": {
        "id": "p41pxJOBBpdn"
      }
    },
    {
      "cell_type": "code",
      "source": [
        "# a function which converts the original dataframes into two dataframes with years\n",
        "# and country names as columns respectively\n",
        "dataframe = pd.read_csv(\"data/API_19_DS2_en_csv_v2_3931355.csv\", skiprows=4)\n",
        "def categorize_df(csv_path):\n",
        "  original_df = pd.read_csv(csv_path, skiprows=4)\n",
        "  df_by_year = original_df.iloc[:, 4:] # dataframe with years as columns\n",
        "  df_by_country = original_df.iloc[:,0] # dataframe with countries as columns\n",
        "  return df_by_year, df_by_country\n",
        "\n",
        "df_year, df_country = categorize_df(\"data/API_19_DS2_en_csv_v2_3931355.csv\") # 2 dataframes with country and years as columns respectively\n",
        "df_country = df_country.drop_duplicates() # dropping duplicates for faster manipulation"
      ],
      "metadata": {
        "id": "CYBUEyZ87WEy"
      },
      "execution_count": null,
      "outputs": []
    },
    {
      "cell_type": "code",
      "source": [
        "dataframe[dataframe['Country Name'] == \"World\"].head() # A dataframe on the values of the world"
      ],
      "metadata": {
        "id": "cARM_tY_Hrf-"
      },
      "execution_count": null,
      "outputs": []
    },
    {
      "cell_type": "code",
      "source": [
        "df_year.head(10) # visualizing the top 10 rows on dataframe with years i.e 1996,1998,2000 as columns"
      ],
      "metadata": {
        "id": "PMEvqyCxAEBm"
      },
      "execution_count": null,
      "outputs": []
    },
    {
      "cell_type": "code",
      "source": [
        "df_country.tail(10) # Visualizing the last 10 rows on dataframe with country Name as the column"
      ],
      "metadata": {
        "id": "M4vlKpYfAGVk"
      },
      "execution_count": null,
      "outputs": []
    },
    {
      "cell_type": "markdown",
      "source": [
        "STATISTICAL ANALYSIS OF INDICATORS\n",
        "\n",
        "Here we analyze a pair of related indicators, for example % of land under agriculture and % of land under forest on each country, between two countries and between a country and the world. We compare and contrast the two indicators to see how they are related with each other"
      ],
      "metadata": {
        "id": "gDfR6FW0HRSL"
      }
    },
    {
      "cell_type": "code",
      "source": [
        "indicator_codes = [\n",
        "                   \"AG.LND.FRST.ZS\",\"AG.LND.AGRI.ZS\"\n",
        "                   ] # Land covered by forest, Arable land\n",
        "countries = df_country.to_numpy()\n",
        "\n",
        "# A function which takes Country Names and two indicator codes... \n",
        "# it returns a dictionary containing each countries time series data on the two indicators\n",
        "\n",
        "def get_indicators_data(\n",
        "        nations, \n",
        "        indicators_codes):\n",
        "  nations_indicators_data = {}\n",
        "  for nation in nations:\n",
        "    indicators = {}\n",
        "    for code in indicators_codes:\n",
        "      df = dataframe[dataframe['Country Name'] == nation]\n",
        "      df = df[df['Indicator Code'] == code].iloc[:,4:].to_numpy()[0][:60]\n",
        "      indicators[code] = df\n",
        "    nations_indicators_data[nation] = indicators\n",
        "  return nations_indicators_data\n",
        "\n",
        "c_indicators = get_indicators_data(\n",
        "    countries,\n",
        "    [\"AG.LND.FRST.ZS\",\"AG.LND.AGRI.ZS\"])"
      ],
      "metadata": {
        "id": "l0SSjTaxHWAV"
      },
      "execution_count": null,
      "outputs": []
    },
    {
      "cell_type": "code",
      "source": [
        "# world indicator statistics\n",
        "world_indicator_ds = {}\n",
        "for code in indicator_codes:\n",
        "  w_ds = dataframe[dataframe['Country Name'] == 'World']\n",
        "  w_ds = w_ds[w_ds['Indicator Code'] == code].iloc[:,4:].to_numpy()[0][:60]\n",
        "  world_indicator_ds[code] = w_ds\n",
        "world_indicator_ds"
      ],
      "metadata": {
        "id": "X4mPOboaCxOI"
      },
      "execution_count": null,
      "outputs": []
    },
    {
      "cell_type": "markdown",
      "source": [
        "VISUALIZATION"
      ],
      "metadata": {
        "id": "8KvuwwaVk-yT"
      }
    },
    {
      "cell_type": "markdown",
      "source": [
        "1. WORLD STATISTICS\n",
        "\n",
        "A plot on the two indicators with 'World' as the Country Name. We use Matplotlib for doing visualization"
      ],
      "metadata": {
        "id": "cy11qjxYp26w"
      }
    },
    {
      "cell_type": "code",
      "source": [
        "from matplotlib import pyplot as plt\n",
        "import matplotlib as mpl\n",
        "\n",
        "indexes = np.arange(1960,2020,1)\n",
        "# a function for plotting the two indicators of a country\n",
        "def plot(\n",
        "        y1, \n",
        "        y2, \n",
        "        title):\n",
        "    fig, ax = plt.subplots(figsize=(3, 3))\n",
        "    ax.set_title(title, color='C0')\n",
        "    ax.plot(indexes, y1, 'C1', label=\"LAND ON AGRIC\")\n",
        "    ax.plot(indexes, y2, 'C2', label=\"LAND ON FOREST\")\n",
        "    ax.legend()\n",
        "plot(\n",
        "    world_indicator_ds['AG.LND.AGRI.ZS'], \n",
        "    world_indicator_ds['AG.LND.FRST.ZS'], \n",
        "    \"World Statistics\")"
      ],
      "metadata": {
        "id": "lFgi_O2TlA82"
      },
      "execution_count": null,
      "outputs": []
    },
    {
      "cell_type": "markdown",
      "source": [
        "ALL THE CODES HAVE BEEN WRITTEN ACCORDING TO THE  PEP-8 GUIDELINES\n",
        "\n",
        "https://peps.python.org/pep-0008/\n",
        "\n",
        "THE CODE IS WELL STRUCTURED AND EASY TO MAINTAIN BECAUSE IT FOLLOWS PEP-8 GUIDELINE. IT'S THEREFORE NO SOME SPAGHETI CODE"
      ],
      "metadata": {
        "id": "ipCRVqQZwyQl"
      }
    },
    {
      "cell_type": "markdown",
      "source": [
        "2. DESIRED COUNTRY STATISTICS\n",
        "\n",
        "A visualization of the two indicators with 'Kenya' as the Country Name"
      ],
      "metadata": {
        "id": "E3M88SqGp_J5"
      }
    },
    {
      "cell_type": "code",
      "source": [
        "country_indicator = c_indicators['Kenya']\n",
        "Agric_Indicator = country_indicator['AG.LND.AGRI.ZS']\n",
        "Forest_Indicator = country_indicator['AG.LND.FRST.ZS']\n",
        "plot(Agric_Indicator,Forest_Indicator,\"Kenya Statistics\")\n",
        " "
      ],
      "metadata": {
        "id": "W5q0iDz2qEjZ"
      },
      "execution_count": null,
      "outputs": []
    },
    {
      "cell_type": "markdown",
      "source": [
        "COVARIANCE BETWEEN THE % OF LAND UNDER AGRICULTURE AND % OF LAND UNDER FOREST"
      ],
      "metadata": {
        "id": "FmKrSMRI-qPJ"
      }
    },
    {
      "cell_type": "markdown",
      "source": [
        "Results here show that there is both positive and negative covarince between the two indicators. This shows that during some period, an increase in the % of land under forest will lead to an increase in % of land under agriculture i.e same direction of change. During some period however, a decrease in % of land under forest result to an increase in % of land under agriculture indicating that some forest areas are being cleared to provide more space for agricultural activity"
      ],
      "metadata": {
        "id": "bgOwGh4-CFlK"
      }
    },
    {
      "cell_type": "code",
      "source": [
        "# we slice before getting the covariance because of missing data\n",
        "cov = np.cov(Agric_Indicator[40:59], Forest_Indicator[40:59])\n",
        "cov"
      ],
      "metadata": {
        "id": "DFmkT6ur-6nL"
      },
      "execution_count": null,
      "outputs": []
    },
    {
      "cell_type": "markdown",
      "source": [
        "COMPARISON BETWEEN THE WORLD AND A DESIRED COUNTRY\n",
        "\n",
        "A visualization of each indicator between 'World' and 'Kenya'. We even go further in the next section by finding the covariance i.e how the two indicators vary with each other"
      ],
      "metadata": {
        "id": "ogNvi6uax7GI"
      }
    },
    {
      "cell_type": "code",
      "source": [
        "# A function for plotting an indicator between two countries\n",
        "def plot2(\n",
        "        y1, \n",
        "        y2, \n",
        "        title, \n",
        "        label_1, \n",
        "        label_2):\n",
        "    fig, ax = plt.subplots(figsize=(3, 3))\n",
        "    ax.set_title(title, color='C0')\n",
        "    ax.plot(indexes, y1, 'C1', label=label_1)\n",
        "    ax.plot(indexes, y2, 'C2', label=label_2)\n",
        "    ax.legend()"
      ],
      "metadata": {
        "id": "88Ihm_UCyBot"
      },
      "execution_count": null,
      "outputs": []
    },
    {
      "cell_type": "code",
      "source": [
        "# Land under Forest\n",
        "plot2(\n",
        "    world_indicator_ds['AG.LND.AGRI.ZS'], \n",
        "    country_indicator['AG.LND.AGRI.ZS'], \n",
        "    \"Land Under Agriculture\", \n",
        "    \"World\", \n",
        "    \"Kenya\")"
      ],
      "metadata": {
        "id": "SaIBGyFDDXz6"
      },
      "execution_count": null,
      "outputs": []
    },
    {
      "cell_type": "code",
      "source": [
        "# Land under Agriculture\n",
        "plot2(\n",
        "    world_indicator_ds['AG.LND.FRST.ZS'], \n",
        "    country_indicator['AG.LND.FRST.ZS'], \n",
        "    \"Land Under Forest\", \n",
        "    \"World\", \n",
        "    \"Kenya\")"
      ],
      "metadata": {
        "id": "BngpS9Xgy3Y7"
      },
      "execution_count": null,
      "outputs": []
    },
    {
      "cell_type": "code",
      "source": [
        "# Again we slice because of missing data\n",
        "c_w_cov = np.cov(\n",
        "    world_indicator_ds['AG.LND.FRST.ZS'][40:50], \n",
        "    country_indicator['AG.LND.FRST.ZS'][40:50]) # a country vs world covariance on land under forest\n",
        "c_w_cov"
      ],
      "metadata": {
        "id": "Oabk2ttzAIHB"
      },
      "execution_count": null,
      "outputs": []
    },
    {
      "cell_type": "markdown",
      "source": [
        "COMPARISON BETWEEN TWO COUNTRIES\n",
        "\n",
        "Here we also find the covariance on an indicator between two countries. Array slicing is done because some columns have 'nan' as values"
      ],
      "metadata": {
        "id": "1CgcGRCkzYeN"
      }
    },
    {
      "cell_type": "code",
      "source": [
        "first_country = 'Kenya'\n",
        "second_country = 'Pakistan'\n",
        "fc_indicator = c_indicators[first_country] # first country's indicator\n",
        "sc_indicator = c_indicators[second_country] # second country's indicator"
      ],
      "metadata": {
        "id": "Tht2yEgszb4Z"
      },
      "execution_count": null,
      "outputs": []
    },
    {
      "cell_type": "code",
      "source": [
        "plot2(\n",
        "    fc_indicator['AG.LND.FRST.ZS'], \n",
        "    sc_indicator['AG.LND.FRST.ZS'], \n",
        "    \"Land under Forest\", \n",
        "    first_country, \n",
        "    second_country)\n",
        "# again we slice due to missing data\n",
        "c_c_cov = np.cov(fc_indicator['AG.LND.FRST.ZS'][40:50], sc_indicator['AG.LND.FRST.ZS'][40:50]) # country vs country covariance on land under forest\n",
        "c_c_cov"
      ],
      "metadata": {
        "id": "H5lLPjIS0fno"
      },
      "execution_count": null,
      "outputs": []
    },
    {
      "cell_type": "markdown",
      "source": [
        "THE STORY\n",
        "1. ARABLE LAND VS FOREST AREA\n",
        "\n",
        "From the year 1990 t0 2010 forest area in Germany has been increasing showing that deforestration rate is decreasing. Arable land has a intermittent change. As for Kenya, arable land has been increasing in the past 10 years while area under forest has been decreasing showing a deforestration trend"
      ],
      "metadata": {
        "id": "qUMkdN-uRXGK"
      }
    },
    {
      "cell_type": "code",
      "source": [
        "states = [\n",
        "          'Kenya','Pakistan','World','Germany'\n",
        "          ]\n",
        "arable_forest_indicators = [\n",
        "                            'AG.LND.ARBL.ZS','AG.LND.FRST.ZS'\n",
        "                            ]\n",
        "\n",
        "arable_forest_data = get_indicators_data(\n",
        "    states, \n",
        "    arable_forest_indicators)\n",
        "\n",
        "def plot3(\n",
        "        y1, \n",
        "        y2, \n",
        "        title, \n",
        "        label_1, \n",
        "        label_2):\n",
        "    fig, ax = plt.subplots(figsize=(3, 3))\n",
        "    ax.set_title(title, color='C0')\n",
        "    ax.plot(indexes, y1, 'C1', label=label_1)\n",
        "    ax.plot(indexes, y2, 'C2', label=label_2)\n",
        "    ax.legend()\n",
        "\n",
        "plot3(\n",
        "    arable_forest_data['Germany']['AG.LND.ARBL.ZS'], \n",
        "    arable_forest_data['Germany']['AG.LND.FRST.ZS'], \n",
        "    \"Germany\", \n",
        "    \"Arable Land\", \n",
        "    \"Forest Land\")\n",
        "\n",
        "plot3(\n",
        "    arable_forest_data['Kenya']['AG.LND.ARBL.ZS'], \n",
        "    arable_forest_data['Kenya']['AG.LND.FRST.ZS'], \n",
        "    \"Kenya\", \n",
        "    \"Arable Land\", \n",
        "    \"Forest Land\")"
      ],
      "metadata": {
        "id": "MjXl5_IqRo4L"
      },
      "execution_count": null,
      "outputs": []
    },
    {
      "cell_type": "markdown",
      "source": [
        "2. ELECTRIC POWER CONSUMPTION VS ACCESS TO ELECTRICITY VS OVERALL ENERGY \n",
        "\n",
        "Electricity in Kenya is progressively becoming more accessible from the year 2010 to 2020. Electic Power consumption has therefore increased in Kenya. As for Germany, the power consumption has been rising over the last ten years but ease of access to electricity has remained fairly constant ."
      ],
      "metadata": {
        "id": "dOFpIzjnT5ht"
      }
    },
    {
      "cell_type": "code",
      "source": [
        "electricity_indicator = [\n",
        "                         'EG.ELC.ACCS.ZS', 'EG.USE.ELEC.KH.PC'\n",
        "                         ]\n",
        "\n",
        "electricity_data = get_indicators_data(\n",
        "    states, \n",
        "    electricity_indicator)\n",
        "\n",
        "plot3(\n",
        "    electricity_data['Kenya']['EG.ELC.ACCS.ZS'], \n",
        "    electricity_data['Kenya']['EG.USE.ELEC.KH.PC'], \n",
        "    \"Kenya\", \n",
        "    \"Electricity Access\", \n",
        "    \"Power Consumption\")\n",
        "\n",
        "plot3(\n",
        "    electricity_data['Germany']['EG.ELC.ACCS.ZS'], \n",
        "    electricity_data['Germany']['EG.USE.ELEC.KH.PC'], \n",
        "    \"Germany\", \n",
        "    \"Electricity Access\", \n",
        "    \"Power Consumption\")\n"
      ],
      "metadata": {
        "id": "4N1sLEp8UiXR"
      },
      "execution_count": null,
      "outputs": []
    },
    {
      "cell_type": "markdown",
      "source": [
        "3.METHANE PRODUCTION VS POVERTY HEAD COUNT\n",
        "\n",
        "The rate of emission of methane is decreasing in Germany while Povert head Count has remained relatively constant. This shows that the emission of menthane is having little impact on poverty head count in Germany"
      ],
      "metadata": {
        "id": "OZndepG1d_A6"
      }
    },
    {
      "cell_type": "code",
      "source": [
        "methane_pov_hc_indicator = [\n",
        "                            'EN.ATM.METH.ZG',\n",
        "                            'SI.POV.DDAY'\n",
        "                            ]\n",
        "methane_pov_hc_data = get_indicators_data(\n",
        "    states,\n",
        "    methane_pov_hc_indicator)\n",
        "\n",
        "plot3(\n",
        "    methane_pov_hc_data['Germany']['EN.ATM.METH.ZG'], \n",
        "    methane_pov_hc_data['Germany']['SI.POV.DDAY']*50, \n",
        "    \"Germany\", \n",
        "    \"Methane Emission\", \n",
        "    \"Poverty Head Count\"\n",
        "    )"
      ],
      "metadata": {
        "id": "G8eEbRGiek0h"
      },
      "execution_count": null,
      "outputs": []
    }
  ]
}